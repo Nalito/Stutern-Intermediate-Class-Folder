{
  "cells": [
    {
      "cell_type": "markdown",
      "id": "28c12f4a-512d-4a18-8640-45dd48ae8b3c",
      "metadata": {
        "id": "28c12f4a-512d-4a18-8640-45dd48ae8b3c"
      },
      "source": [
        "# Assignment 2 (Week 2)\n",
        "\n",
        ">**Note**: Late submissions are ***`penalized`***.\n",
        "\n",
        "## Name: Ifeoluwa Oduwaiye"
      ]
    },
    {
      "cell_type": "code",
      "execution_count": 1,
      "id": "5aba3d86-630f-4a40-bbf6-6e3cde1e44b9",
      "metadata": {
        "id": "5aba3d86-630f-4a40-bbf6-6e3cde1e44b9"
      },
      "outputs": [],
      "source": [
        "import pandas as pd\n",
        "import sqlite3"
      ]
    },
    {
      "cell_type": "code",
      "execution_count": 2,
      "id": "641d837a-0878-4899-b823-cc1f815faa88",
      "metadata": {
        "id": "641d837a-0878-4899-b823-cc1f815faa88"
      },
      "outputs": [],
      "source": [
        "%load_ext sql\n"
      ]
    },
    {
      "cell_type": "code",
      "source": [
        "%%sql\n",
        "\n",
        "sqlite:///week_2.db"
      ],
      "metadata": {
        "colab": {
          "base_uri": "https://localhost:8080/",
          "height": 36
        },
        "id": "MGR2taGB7EVm",
        "outputId": "ec32f970-3fec-4a99-8fed-af51f4f061ab"
      },
      "id": "MGR2taGB7EVm",
      "execution_count": 3,
      "outputs": [
        {
          "output_type": "execute_result",
          "data": {
            "text/plain": [
              "'Connected: @week_2.db'"
            ],
            "application/vnd.google.colaboratory.intrinsic+json": {
              "type": "string"
            }
          },
          "metadata": {},
          "execution_count": 3
        }
      ]
    },
    {
      "cell_type": "markdown",
      "id": "6766dadf-bb90-45ee-93aa-01db1ad5c87e",
      "metadata": {
        "id": "6766dadf-bb90-45ee-93aa-01db1ad5c87e"
      },
      "source": [
        "### The Database can be found [here](https://drive.google.com/file/d/1uIPkJWIHyZ8iQD_tQlM_K-ANoT_Bpy8P/view?usp=sharing)\n",
        "\n",
        "> Run the command below to see all the tables present in the SQLite DB.\n",
        "\n",
        "```sql\n",
        "SELECT name FROM sqlite_master;\n",
        "```\n",
        "\n",
        "<hr>\n",
        "<br>"
      ]
    },
    {
      "cell_type": "code",
      "source": [
        "%%sql\n",
        "\n",
        "SELECT name from sqlite_master;"
      ],
      "metadata": {
        "colab": {
          "base_uri": "https://localhost:8080/",
          "height": 239
        },
        "id": "etbgJzv455Xw",
        "outputId": "7a1548aa-dbce-4e61-c38f-be88e2b08a70"
      },
      "id": "etbgJzv455Xw",
      "execution_count": 4,
      "outputs": [
        {
          "output_type": "stream",
          "name": "stdout",
          "text": [
            " * sqlite:///week_2.db\n",
            "Done.\n"
          ]
        },
        {
          "output_type": "execute_result",
          "data": {
            "text/plain": [
              "[('customers',),\n",
              " ('sqlite_sequence',),\n",
              " ('orders',),\n",
              " ('employee',),\n",
              " ('department',),\n",
              " ('students',),\n",
              " ('sqlite_autoindex_students_1',),\n",
              " ('products',)]"
            ],
            "text/html": [
              "<table>\n",
              "    <thead>\n",
              "        <tr>\n",
              "            <th>name</th>\n",
              "        </tr>\n",
              "    </thead>\n",
              "    <tbody>\n",
              "        <tr>\n",
              "            <td>customers</td>\n",
              "        </tr>\n",
              "        <tr>\n",
              "            <td>sqlite_sequence</td>\n",
              "        </tr>\n",
              "        <tr>\n",
              "            <td>orders</td>\n",
              "        </tr>\n",
              "        <tr>\n",
              "            <td>employee</td>\n",
              "        </tr>\n",
              "        <tr>\n",
              "            <td>department</td>\n",
              "        </tr>\n",
              "        <tr>\n",
              "            <td>students</td>\n",
              "        </tr>\n",
              "        <tr>\n",
              "            <td>sqlite_autoindex_students_1</td>\n",
              "        </tr>\n",
              "        <tr>\n",
              "            <td>products</td>\n",
              "        </tr>\n",
              "    </tbody>\n",
              "</table>"
            ]
          },
          "metadata": {},
          "execution_count": 4
        }
      ]
    },
    {
      "cell_type": "markdown",
      "id": "2e83bc59-806f-4e10-8bdf-555ff25f28eb",
      "metadata": {
        "id": "2e83bc59-806f-4e10-8bdf-555ff25f28eb"
      },
      "source": [
        "## Qs 1: \n",
        "\n",
        "a. Given the table, `customers` and `orders` shown below, use a **subquery** to find the **customers** that did ***NOT*** place any orders. Display only the customer name(s).\n",
        "\n",
        "**`customers`**\n",
        "\n",
        "![image.png](https://i.postimg.cc/sx2WK6v3/image.png)\n",
        "\n",
        "\n",
        "**`orders`**\n",
        "\n",
        "![image.png](https://i.postimg.cc/T2H5fcKW/image.png)\n",
        "\n",
        "b. Given the `products` table shown below:\n",
        "\n",
        "[![image.png](https://i.postimg.cc/W18dpLXC/image.png)](https://postimg.cc/DSWv5DVP)\n",
        "\n",
        "write a query that returns the price of each product at every store. Your result should look like this:\n",
        "\n",
        "[![image.png](https://i.postimg.cc/s235K4Nd/image.png)](https://postimg.cc/FYnfH3vD)\n",
        "\n",
        "**Hint:** Use `CASE` statement.\n",
        "\n",
        "### NOTE: You must use a single query."
      ]
    },
    {
      "cell_type": "code",
      "execution_count": null,
      "id": "4ab69fa3-7d49-40d6-9b03-5b8be0aea03d",
      "metadata": {
        "id": "4ab69fa3-7d49-40d6-9b03-5b8be0aea03d"
      },
      "outputs": [],
      "source": [
        "# Write your solution here"
      ]
    },
    {
      "cell_type": "code",
      "execution_count": 5,
      "id": "75db2bb8-6154-4fab-8153-3ab8141a43a1",
      "metadata": {
        "id": "75db2bb8-6154-4fab-8153-3ab8141a43a1",
        "colab": {
          "base_uri": "https://localhost:8080/"
        },
        "outputId": "5f989ae0-a359-4698-f9c0-e85c9eddd3d9"
      },
      "outputs": [
        {
          "output_type": "stream",
          "name": "stdout",
          "text": [
            " * sqlite:///week_2.db\n",
            "(sqlite3.OperationalError) near \"FROM\": syntax error\n",
            "[SQL: SELECT (SUM(price) FROM products WHERE store = 'store a')\n",
            "FROM products]\n",
            "(Background on this error at: https://sqlalche.me/e/14/e3q8)\n"
          ]
        }
      ],
      "source": [
        "%%sql\n",
        "\n",
        "SELECT id,\n",
        "CASE WHEN store = 'store a' THEN SUM(price)\n",
        "END AS 'store a'\n",
        "FROM products"
      ]
    },
    {
      "cell_type": "markdown",
      "id": "3aa4543f-ee4e-4288-bee3-6a7ad529c88d",
      "metadata": {
        "tags": [],
        "id": "3aa4543f-ee4e-4288-bee3-6a7ad529c88d"
      },
      "source": [
        "## Qs 2: \n",
        "\n",
        "Given the tables `employee` and `department` shown below:\n",
        "\n",
        "![image.png](https://i.postimg.cc/bw0J574p/image.png)\n",
        "\n",
        "a. Write a query that generates the table shown below:\n",
        "\n",
        "![image](https://i.postimg.cc/hjc3rdTK/image.pnghttps://i.postimg.cc/hjc3rdTK/image.png)\n",
        "\n",
        "b. Write a query that determines the **highest earner** in **each department**.\n",
        "\n",
        "c. Write a query that shows all the employees in each department **except** the **lowest earner**. i.e generate the table below\n",
        "\n",
        "![image.png](https://i.postimg.cc/MHcmw7Q0/image.png)"
      ]
    },
    {
      "cell_type": "code",
      "execution_count": null,
      "id": "53a65238-f4e5-4ff2-82e4-77b659304025",
      "metadata": {
        "id": "53a65238-f4e5-4ff2-82e4-77b659304025",
        "colab": {
          "base_uri": "https://localhost:8080/",
          "height": 276
        },
        "outputId": "e21e2578-d295-4a2e-91cc-d3e3e22ee882"
      },
      "outputs": [
        {
          "output_type": "stream",
          "name": "stdout",
          "text": [
            "   sqlite:////content/week_2\n",
            "   sqlite:///week_2\n",
            " * sqlite:///week_2.db\n",
            "Done.\n"
          ]
        },
        {
          "output_type": "execute_result",
          "data": {
            "text/plain": [
              "[('Felix', 33000, 'IT'),\n",
              " ('Okafor', 25000, 'IT'),\n",
              " ('Gafar', 41000, 'IT'),\n",
              " ('Amanda', 53000, 'IT'),\n",
              " ('Steve', 32000, 'Sales'),\n",
              " ('Bola', 31000, 'Sales'),\n",
              " ('Babalola', 30200, 'Sales'),\n",
              " ('Adigun', 30000, 'Sales')]"
            ],
            "text/html": [
              "<table>\n",
              "    <thead>\n",
              "        <tr>\n",
              "            <th>name</th>\n",
              "            <th>salary</th>\n",
              "            <th>dept_name</th>\n",
              "        </tr>\n",
              "    </thead>\n",
              "    <tbody>\n",
              "        <tr>\n",
              "            <td>Felix</td>\n",
              "            <td>33000</td>\n",
              "            <td>IT</td>\n",
              "        </tr>\n",
              "        <tr>\n",
              "            <td>Okafor</td>\n",
              "            <td>25000</td>\n",
              "            <td>IT</td>\n",
              "        </tr>\n",
              "        <tr>\n",
              "            <td>Gafar</td>\n",
              "            <td>41000</td>\n",
              "            <td>IT</td>\n",
              "        </tr>\n",
              "        <tr>\n",
              "            <td>Amanda</td>\n",
              "            <td>53000</td>\n",
              "            <td>IT</td>\n",
              "        </tr>\n",
              "        <tr>\n",
              "            <td>Steve</td>\n",
              "            <td>32000</td>\n",
              "            <td>Sales</td>\n",
              "        </tr>\n",
              "        <tr>\n",
              "            <td>Bola</td>\n",
              "            <td>31000</td>\n",
              "            <td>Sales</td>\n",
              "        </tr>\n",
              "        <tr>\n",
              "            <td>Babalola</td>\n",
              "            <td>30200</td>\n",
              "            <td>Sales</td>\n",
              "        </tr>\n",
              "        <tr>\n",
              "            <td>Adigun</td>\n",
              "            <td>30000</td>\n",
              "            <td>Sales</td>\n",
              "        </tr>\n",
              "    </tbody>\n",
              "</table>"
            ]
          },
          "metadata": {},
          "execution_count": 21
        }
      ],
      "source": [
        "# Write your solution here\n",
        "%%sql\n",
        "\n",
        "SELECT name, salary, dept_name\n",
        "FROM employee JOIN department\n",
        "ON employee.dept_id = department.id\n",
        "ORDER BY dept_name"
      ]
    },
    {
      "cell_type": "code",
      "execution_count": null,
      "id": "eab1bd72-e7f8-4d56-8c30-c889ad694be5",
      "metadata": {
        "id": "eab1bd72-e7f8-4d56-8c30-c889ad694be5",
        "colab": {
          "base_uri": "https://localhost:8080/",
          "height": 153
        },
        "outputId": "cbd78b43-d9ce-486c-f55a-c4deb19cbc26"
      },
      "outputs": [
        {
          "output_type": "stream",
          "name": "stdout",
          "text": [
            "   sqlite:////content/week_2\n",
            "   sqlite:///week_2\n",
            " * sqlite:///week_2.db\n",
            "Done.\n"
          ]
        },
        {
          "output_type": "execute_result",
          "data": {
            "text/plain": [
              "[('Amanda', 53000, 'IT'), ('Steve', 32000, 'Sales')]"
            ],
            "text/html": [
              "<table>\n",
              "    <thead>\n",
              "        <tr>\n",
              "            <th>name</th>\n",
              "            <th>salary</th>\n",
              "            <th>dept_name</th>\n",
              "        </tr>\n",
              "    </thead>\n",
              "    <tbody>\n",
              "        <tr>\n",
              "            <td>Amanda</td>\n",
              "            <td>53000</td>\n",
              "            <td>IT</td>\n",
              "        </tr>\n",
              "        <tr>\n",
              "            <td>Steve</td>\n",
              "            <td>32000</td>\n",
              "            <td>Sales</td>\n",
              "        </tr>\n",
              "    </tbody>\n",
              "</table>"
            ]
          },
          "metadata": {},
          "execution_count": 23
        }
      ],
      "source": [
        "# Write your solution here\n",
        "\n",
        "%%sql\n",
        "\n",
        "SELECT name, salary, dept_name\n",
        "FROM employee JOIN department\n",
        "ON employee.dept_id = department.id\n",
        "WHERE salary IN (SELECT MAX(salary)\n",
        "FROM employee\n",
        "GROUP BY dept_id)\n",
        "ORDER BY dept_name"
      ]
    },
    {
      "cell_type": "code",
      "execution_count": null,
      "id": "f8061201-1f3b-467b-9cff-09cae5361756",
      "metadata": {
        "id": "f8061201-1f3b-467b-9cff-09cae5361756",
        "colab": {
          "base_uri": "https://localhost:8080/",
          "height": 235
        },
        "outputId": "41a573d7-f712-4632-e628-85cfa2c8ff03"
      },
      "outputs": [
        {
          "output_type": "stream",
          "name": "stdout",
          "text": [
            "   sqlite:////content/week_2\n",
            "   sqlite:///week_2\n",
            " * sqlite:///week_2.db\n",
            "Done.\n"
          ]
        },
        {
          "output_type": "execute_result",
          "data": {
            "text/plain": [
              "[('Amanda', 53000, 'IT'),\n",
              " ('Gafar', 41000, 'IT'),\n",
              " ('Felix', 33000, 'IT'),\n",
              " ('Steve', 32000, 'Sales'),\n",
              " ('Bola', 31000, 'Sales'),\n",
              " ('Babalola', 30200, 'Sales')]"
            ],
            "text/html": [
              "<table>\n",
              "    <thead>\n",
              "        <tr>\n",
              "            <th>name</th>\n",
              "            <th>salary</th>\n",
              "            <th>dept_name</th>\n",
              "        </tr>\n",
              "    </thead>\n",
              "    <tbody>\n",
              "        <tr>\n",
              "            <td>Amanda</td>\n",
              "            <td>53000</td>\n",
              "            <td>IT</td>\n",
              "        </tr>\n",
              "        <tr>\n",
              "            <td>Gafar</td>\n",
              "            <td>41000</td>\n",
              "            <td>IT</td>\n",
              "        </tr>\n",
              "        <tr>\n",
              "            <td>Felix</td>\n",
              "            <td>33000</td>\n",
              "            <td>IT</td>\n",
              "        </tr>\n",
              "        <tr>\n",
              "            <td>Steve</td>\n",
              "            <td>32000</td>\n",
              "            <td>Sales</td>\n",
              "        </tr>\n",
              "        <tr>\n",
              "            <td>Bola</td>\n",
              "            <td>31000</td>\n",
              "            <td>Sales</td>\n",
              "        </tr>\n",
              "        <tr>\n",
              "            <td>Babalola</td>\n",
              "            <td>30200</td>\n",
              "            <td>Sales</td>\n",
              "        </tr>\n",
              "    </tbody>\n",
              "</table>"
            ]
          },
          "metadata": {},
          "execution_count": 25
        }
      ],
      "source": [
        "# Write your solution here\n",
        "\n",
        "%%sql\n",
        "\n",
        "SELECT name, salary, dept_name\n",
        "FROM employee JOIN department\n",
        "ON employee.dept_id = department.id\n",
        "WHERE salary NOT IN (SELECT MIN(salary)\n",
        "FROM employee\n",
        "GROUP BY dept_id)\n",
        "ORDER BY salary DESC"
      ]
    },
    {
      "cell_type": "code",
      "execution_count": null,
      "id": "6cfa71e7-ad0c-4d95-a9d1-ab880cba8220",
      "metadata": {
        "id": "6cfa71e7-ad0c-4d95-a9d1-ab880cba8220"
      },
      "outputs": [],
      "source": []
    },
    {
      "cell_type": "markdown",
      "id": "46c59968-6566-4959-93ed-5806471f39ae",
      "metadata": {
        "id": "46c59968-6566-4959-93ed-5806471f39ae"
      },
      "source": [
        "### Qs 3: Given the students table:\n",
        "\n",
        "a. Write a query that creates a new column `percentage_score`.  The `percentage_score` is the mean of all the subjects for each student. Round the `percentage_score` to 2 decimal points and sort in descending order.\n",
        "\n",
        "b. Write a query that selects **ONLY** the students that scored more than the mean of the `percentage_score`."
      ]
    },
    {
      "cell_type": "code",
      "execution_count": null,
      "id": "f9cc3835-2459-4541-9259-c94898bdfb40",
      "metadata": {
        "id": "f9cc3835-2459-4541-9259-c94898bdfb40",
        "colab": {
          "base_uri": "https://localhost:8080/",
          "height": 358
        },
        "outputId": "ee1d367f-46d5-4a22-9c41-936f6cca0cd5"
      },
      "outputs": [
        {
          "output_type": "stream",
          "name": "stdout",
          "text": [
            "   sqlite:////content/week_2\n",
            "   sqlite:///week_2\n",
            " * sqlite:///week_2.db\n",
            "Done.\n"
          ]
        },
        {
          "output_type": "execute_result",
          "data": {
            "text/plain": [
              "[('ux-012-013', 'Emeka', 'M', 95, 84, 94),\n",
              " ('ux-012-014', 'Agnes', 'F', 80, 69, 88),\n",
              " ('ux-012-015', 'Alimat', 'F', 69, 69, 77),\n",
              " ('ux-012-017', 'Fred', 'M', 28, 57, 39),\n",
              " ('ux-012-018', 'Ogechi', 'F', 80, 69, 78),\n",
              " ('ux-012-019', 'Steve', 'M', 61, 69, 72),\n",
              " ('ux-012-016', 'Esther', 'F', 93, 77, 91),\n",
              " ('ux-012-020', 'Ahmed', 'M', 87, 94, 85),\n",
              " ('ux-012-021', 'Samantha', 'F', 52, 69, 48),\n",
              " ('ux-012-022', 'Philip', 'M', 51, 39, 45),\n",
              " ('ux-012-023', 'Dave', 'M', 77, 69, 70),\n",
              " ('ux-012-024', 'Seyi', 'M', 54, 83, 63)]"
            ],
            "text/html": [
              "<table>\n",
              "    <thead>\n",
              "        <tr>\n",
              "            <th>matric_no</th>\n",
              "            <th>name</th>\n",
              "            <th>gender</th>\n",
              "            <th>maths</th>\n",
              "            <th>english</th>\n",
              "            <th>physics</th>\n",
              "        </tr>\n",
              "    </thead>\n",
              "    <tbody>\n",
              "        <tr>\n",
              "            <td>ux-012-013</td>\n",
              "            <td>Emeka</td>\n",
              "            <td>M</td>\n",
              "            <td>95</td>\n",
              "            <td>84</td>\n",
              "            <td>94</td>\n",
              "        </tr>\n",
              "        <tr>\n",
              "            <td>ux-012-014</td>\n",
              "            <td>Agnes</td>\n",
              "            <td>F</td>\n",
              "            <td>80</td>\n",
              "            <td>69</td>\n",
              "            <td>88</td>\n",
              "        </tr>\n",
              "        <tr>\n",
              "            <td>ux-012-015</td>\n",
              "            <td>Alimat</td>\n",
              "            <td>F</td>\n",
              "            <td>69</td>\n",
              "            <td>69</td>\n",
              "            <td>77</td>\n",
              "        </tr>\n",
              "        <tr>\n",
              "            <td>ux-012-017</td>\n",
              "            <td>Fred</td>\n",
              "            <td>M</td>\n",
              "            <td>28</td>\n",
              "            <td>57</td>\n",
              "            <td>39</td>\n",
              "        </tr>\n",
              "        <tr>\n",
              "            <td>ux-012-018</td>\n",
              "            <td>Ogechi</td>\n",
              "            <td>F</td>\n",
              "            <td>80</td>\n",
              "            <td>69</td>\n",
              "            <td>78</td>\n",
              "        </tr>\n",
              "        <tr>\n",
              "            <td>ux-012-019</td>\n",
              "            <td>Steve</td>\n",
              "            <td>M</td>\n",
              "            <td>61</td>\n",
              "            <td>69</td>\n",
              "            <td>72</td>\n",
              "        </tr>\n",
              "        <tr>\n",
              "            <td>ux-012-016</td>\n",
              "            <td>Esther</td>\n",
              "            <td>F</td>\n",
              "            <td>93</td>\n",
              "            <td>77</td>\n",
              "            <td>91</td>\n",
              "        </tr>\n",
              "        <tr>\n",
              "            <td>ux-012-020</td>\n",
              "            <td>Ahmed</td>\n",
              "            <td>M</td>\n",
              "            <td>87</td>\n",
              "            <td>94</td>\n",
              "            <td>85</td>\n",
              "        </tr>\n",
              "        <tr>\n",
              "            <td>ux-012-021</td>\n",
              "            <td>Samantha</td>\n",
              "            <td>F</td>\n",
              "            <td>52</td>\n",
              "            <td>69</td>\n",
              "            <td>48</td>\n",
              "        </tr>\n",
              "        <tr>\n",
              "            <td>ux-012-022</td>\n",
              "            <td>Philip</td>\n",
              "            <td>M</td>\n",
              "            <td>51</td>\n",
              "            <td>39</td>\n",
              "            <td>45</td>\n",
              "        </tr>\n",
              "        <tr>\n",
              "            <td>ux-012-023</td>\n",
              "            <td>Dave</td>\n",
              "            <td>M</td>\n",
              "            <td>77</td>\n",
              "            <td>69</td>\n",
              "            <td>70</td>\n",
              "        </tr>\n",
              "        <tr>\n",
              "            <td>ux-012-024</td>\n",
              "            <td>Seyi</td>\n",
              "            <td>M</td>\n",
              "            <td>54</td>\n",
              "            <td>83</td>\n",
              "            <td>63</td>\n",
              "        </tr>\n",
              "    </tbody>\n",
              "</table>"
            ]
          },
          "metadata": {},
          "execution_count": 26
        }
      ],
      "source": [
        "# Write your solution here\n",
        "\n",
        "%%sql\n",
        "\n",
        "SELECT * FROM students"
      ]
    },
    {
      "cell_type": "code",
      "execution_count": null,
      "id": "0d4dd56e-948d-4ff5-a068-e259c8d64c8a",
      "metadata": {
        "id": "0d4dd56e-948d-4ff5-a068-e259c8d64c8a",
        "colab": {
          "base_uri": "https://localhost:8080/",
          "height": 358
        },
        "outputId": "2f014d4b-f235-4156-d17a-a2495085f132"
      },
      "outputs": [
        {
          "output_type": "stream",
          "name": "stdout",
          "text": [
            "   sqlite:////content/week_2\n",
            "   sqlite:///week_2\n",
            " * sqlite:///week_2.db\n",
            "Done.\n"
          ]
        },
        {
          "output_type": "execute_result",
          "data": {
            "text/plain": [
              "[('ux-012-013', 'Emeka', 91.0),\n",
              " ('ux-012-020', 'Ahmed', 88.0),\n",
              " ('ux-012-016', 'Esther', 87.0),\n",
              " ('ux-012-014', 'Agnes', 79.0),\n",
              " ('ux-012-018', 'Ogechi', 75.0),\n",
              " ('ux-012-023', 'Dave', 72.0),\n",
              " ('ux-012-015', 'Alimat', 71.0),\n",
              " ('ux-012-019', 'Steve', 67.0),\n",
              " ('ux-012-024', 'Seyi', 66.0),\n",
              " ('ux-012-021', 'Samantha', 56.0),\n",
              " ('ux-012-022', 'Philip', 45.0),\n",
              " ('ux-012-017', 'Fred', 41.0)]"
            ],
            "text/html": [
              "<table>\n",
              "    <thead>\n",
              "        <tr>\n",
              "            <th>matric_no</th>\n",
              "            <th>name</th>\n",
              "            <th>percentage_score</th>\n",
              "        </tr>\n",
              "    </thead>\n",
              "    <tbody>\n",
              "        <tr>\n",
              "            <td>ux-012-013</td>\n",
              "            <td>Emeka</td>\n",
              "            <td>91.0</td>\n",
              "        </tr>\n",
              "        <tr>\n",
              "            <td>ux-012-020</td>\n",
              "            <td>Ahmed</td>\n",
              "            <td>88.0</td>\n",
              "        </tr>\n",
              "        <tr>\n",
              "            <td>ux-012-016</td>\n",
              "            <td>Esther</td>\n",
              "            <td>87.0</td>\n",
              "        </tr>\n",
              "        <tr>\n",
              "            <td>ux-012-014</td>\n",
              "            <td>Agnes</td>\n",
              "            <td>79.0</td>\n",
              "        </tr>\n",
              "        <tr>\n",
              "            <td>ux-012-018</td>\n",
              "            <td>Ogechi</td>\n",
              "            <td>75.0</td>\n",
              "        </tr>\n",
              "        <tr>\n",
              "            <td>ux-012-023</td>\n",
              "            <td>Dave</td>\n",
              "            <td>72.0</td>\n",
              "        </tr>\n",
              "        <tr>\n",
              "            <td>ux-012-015</td>\n",
              "            <td>Alimat</td>\n",
              "            <td>71.0</td>\n",
              "        </tr>\n",
              "        <tr>\n",
              "            <td>ux-012-019</td>\n",
              "            <td>Steve</td>\n",
              "            <td>67.0</td>\n",
              "        </tr>\n",
              "        <tr>\n",
              "            <td>ux-012-024</td>\n",
              "            <td>Seyi</td>\n",
              "            <td>66.0</td>\n",
              "        </tr>\n",
              "        <tr>\n",
              "            <td>ux-012-021</td>\n",
              "            <td>Samantha</td>\n",
              "            <td>56.0</td>\n",
              "        </tr>\n",
              "        <tr>\n",
              "            <td>ux-012-022</td>\n",
              "            <td>Philip</td>\n",
              "            <td>45.0</td>\n",
              "        </tr>\n",
              "        <tr>\n",
              "            <td>ux-012-017</td>\n",
              "            <td>Fred</td>\n",
              "            <td>41.0</td>\n",
              "        </tr>\n",
              "    </tbody>\n",
              "</table>"
            ]
          },
          "metadata": {},
          "execution_count": 31
        }
      ],
      "source": [
        "# Write your solution here\n",
        "\n",
        "%%sql\n",
        "\n",
        "SELECT matric_no, name, ROUND((maths+english+physics)/3, 2) AS percentage_score\n",
        "FROM students\n",
        "ORDER BY percentage_score DESC"
      ]
    },
    {
      "cell_type": "code",
      "execution_count": 8,
      "id": "7d991ca7-cd81-42b4-922f-2d3a98fc514d",
      "metadata": {
        "id": "7d991ca7-cd81-42b4-922f-2d3a98fc514d",
        "colab": {
          "base_uri": "https://localhost:8080/",
          "height": 218
        },
        "outputId": "88ba017b-74d6-4a53-a23d-f53a6f1b2ea0"
      },
      "outputs": [
        {
          "output_type": "stream",
          "name": "stdout",
          "text": [
            " * sqlite:///week_2.db\n",
            "Done.\n"
          ]
        },
        {
          "output_type": "execute_result",
          "data": {
            "text/plain": [
              "[('ux-012-013', 'Emeka', 91.0),\n",
              " ('ux-012-020', 'Ahmed', 88.0),\n",
              " ('ux-012-016', 'Esther', 87.0),\n",
              " ('ux-012-014', 'Agnes', 79.0),\n",
              " ('ux-012-018', 'Ogechi', 75.0),\n",
              " ('ux-012-023', 'Dave', 72.0),\n",
              " ('ux-012-015', 'Alimat', 71.0)]"
            ],
            "text/html": [
              "<table>\n",
              "    <thead>\n",
              "        <tr>\n",
              "            <th>matric_no</th>\n",
              "            <th>name</th>\n",
              "            <th>percentage_score</th>\n",
              "        </tr>\n",
              "    </thead>\n",
              "    <tbody>\n",
              "        <tr>\n",
              "            <td>ux-012-013</td>\n",
              "            <td>Emeka</td>\n",
              "            <td>91.0</td>\n",
              "        </tr>\n",
              "        <tr>\n",
              "            <td>ux-012-020</td>\n",
              "            <td>Ahmed</td>\n",
              "            <td>88.0</td>\n",
              "        </tr>\n",
              "        <tr>\n",
              "            <td>ux-012-016</td>\n",
              "            <td>Esther</td>\n",
              "            <td>87.0</td>\n",
              "        </tr>\n",
              "        <tr>\n",
              "            <td>ux-012-014</td>\n",
              "            <td>Agnes</td>\n",
              "            <td>79.0</td>\n",
              "        </tr>\n",
              "        <tr>\n",
              "            <td>ux-012-018</td>\n",
              "            <td>Ogechi</td>\n",
              "            <td>75.0</td>\n",
              "        </tr>\n",
              "        <tr>\n",
              "            <td>ux-012-023</td>\n",
              "            <td>Dave</td>\n",
              "            <td>72.0</td>\n",
              "        </tr>\n",
              "        <tr>\n",
              "            <td>ux-012-015</td>\n",
              "            <td>Alimat</td>\n",
              "            <td>71.0</td>\n",
              "        </tr>\n",
              "    </tbody>\n",
              "</table>"
            ]
          },
          "metadata": {},
          "execution_count": 8
        }
      ],
      "source": [
        "# Write your solution here\n",
        "\n",
        "%%sql\n",
        "\n",
        "SELECT matric_no, name, ROUND((maths+english+physics)/3, 2) AS percentage_score\n",
        "FROM students\n",
        "WHERE ROUND((maths+english+physics)/3, 2) > \n",
        "(SELECT AVG(ROUND((maths+english+physics)/3, 2))\n",
        "FROM students)\n",
        "ORDER BY percentage_score DESC"
      ]
    },
    {
      "cell_type": "code",
      "execution_count": null,
      "id": "e7633399-c0c2-4e74-af78-155dab778b99",
      "metadata": {
        "id": "e7633399-c0c2-4e74-af78-155dab778b99"
      },
      "outputs": [],
      "source": []
    }
  ],
  "metadata": {
    "kernelspec": {
      "display_name": "Python(ds)",
      "language": "python",
      "name": "ds"
    },
    "language_info": {
      "codemirror_mode": {
        "name": "ipython",
        "version": 3
      },
      "file_extension": ".py",
      "mimetype": "text/x-python",
      "name": "python",
      "nbconvert_exporter": "python",
      "pygments_lexer": "ipython3",
      "version": "3.9.0"
    },
    "colab": {
      "provenance": []
    }
  },
  "nbformat": 4,
  "nbformat_minor": 5
}