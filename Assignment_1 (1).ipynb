{
  "cells": [
    {
      "cell_type": "markdown",
      "id": "28c12f4a-512d-4a18-8640-45dd48ae8b3c",
      "metadata": {
        "id": "28c12f4a-512d-4a18-8640-45dd48ae8b3c"
      },
      "source": [
        "# Assignment 1 (Week 1)\n",
        "\n",
        ">**Note**: Late submissions are ***`penalized`***.\n",
        "\n",
        "## Name: Ifeoluwa Oduwaiye"
      ]
    },
    {
      "cell_type": "code",
      "execution_count": null,
      "id": "5aba3d86-630f-4a40-bbf6-6e3cde1e44b9",
      "metadata": {
        "id": "5aba3d86-630f-4a40-bbf6-6e3cde1e44b9"
      },
      "outputs": [],
      "source": [
        "# Black code formatter (Optional)\n",
        "# $ pip install nb_black\n",
        "%load_ext lab_black\n",
        "\n",
        "# auto reload imports\n",
        "%load_ext autoreload\n",
        "%autoreload 2"
      ]
    },
    {
      "cell_type": "markdown",
      "id": "c5f5ad77-c752-4093-b190-919063786c35",
      "metadata": {
        "id": "c5f5ad77-c752-4093-b190-919063786c35"
      },
      "source": [
        "## Qs 1: \n",
        "\n",
        "Create a class **`Die`** with one attribute called sides, which has a default value of 6. Write a method called `roll_die()` that prints a random number between **1** and the **number of sides** the die has. Make a **6-sided** die and roll it **4** times."
      ]
    },
    {
      "cell_type": "code",
      "execution_count": 47,
      "id": "38322314-a896-46e0-b2ba-4e6415487559",
      "metadata": {
        "id": "38322314-a896-46e0-b2ba-4e6415487559"
      },
      "outputs": [],
      "source": [
        "# Write your solution here\n",
        "\n",
        "import random\n",
        "\n",
        "class Die:\n",
        "  def __init__(self, result, sides):\n",
        "    self.result = result\n",
        "    self.sides = sides\n",
        "\n",
        "  def roll_die(sides=6):\n",
        "    result = random.randint(1, sides)\n",
        "    return result"
      ]
    },
    {
      "cell_type": "code",
      "execution_count": 50,
      "id": "d1a517b1-7062-46db-ab56-a3fc9015fe80",
      "metadata": {
        "id": "d1a517b1-7062-46db-ab56-a3fc9015fe80",
        "colab": {
          "base_uri": "https://localhost:8080/"
        },
        "outputId": "4ae3d745-0a74-42a8-b542-59bff5030dc4"
      },
      "outputs": [
        {
          "output_type": "stream",
          "name": "stdout",
          "text": [
            "Die Simulation 1: The output is 5\n",
            "Die Simulation 2: The output is 3\n",
            "Die Simulation 3: The output is 1\n",
            "Die Simulation 4: The output is 2\n"
          ]
        }
      ],
      "source": [
        "# Write your solution here\n",
        "\n",
        "for i in range(4):\n",
        "  print(\"Die Simulation {}: The output is {}\".format(int(i+1), Die.roll_die()))"
      ]
    },
    {
      "cell_type": "code",
      "execution_count": null,
      "id": "cc40be86-90e0-4d95-ab3f-a7e299c73127",
      "metadata": {
        "id": "cc40be86-90e0-4d95-ab3f-a7e299c73127"
      },
      "outputs": [],
      "source": [
        "# Write your solution here"
      ]
    },
    {
      "cell_type": "code",
      "execution_count": null,
      "id": "738525e7-1d88-4a4d-8321-80d5df6f115a",
      "metadata": {
        "id": "738525e7-1d88-4a4d-8321-80d5df6f115a"
      },
      "outputs": [],
      "source": [
        "# Write your solution here"
      ]
    },
    {
      "cell_type": "code",
      "execution_count": null,
      "id": "12ab517e-1921-4606-a6f3-ee14df19f00a",
      "metadata": {
        "id": "12ab517e-1921-4606-a6f3-ee14df19f00a"
      },
      "outputs": [],
      "source": []
    },
    {
      "cell_type": "markdown",
      "id": "3cfe6485-0967-465b-b47a-c5e83c7d6a68",
      "metadata": {
        "tags": [],
        "id": "3cfe6485-0967-465b-b47a-c5e83c7d6a68"
      },
      "source": [
        "## Qs 2: \n",
        "\n",
        "Write a function called `checker()` that accepts a number between 1 and N. Your function should print **Yes** if the number is divisible by 3, **Okay** if the number is divisible by 4 and **Perfect** if the number is divisible by 12. Test your function with **2** examples as shown below:\n",
        "\n",
        "```python\n",
        "\n",
        "def checker(number: int) -> None:\n",
        "    pass\n",
        "\n",
        "checker(number=13)\n",
        "\n",
        "# 3: Yes\n",
        "# 4: Okay\n",
        "# 6: Yes\n",
        "# 8: Okay\n",
        "# 9: Yes\n",
        "# 12: Perfect\n",
        "\n",
        "checker(number=30)\n",
        "```"
      ]
    },
    {
      "cell_type": "code",
      "execution_count": 36,
      "id": "2e89f2f2-d0b0-4ca8-8971-58a5b5d0ce4b",
      "metadata": {
        "id": "2e89f2f2-d0b0-4ca8-8971-58a5b5d0ce4b"
      },
      "outputs": [],
      "source": [
        "# Write your solution here\n",
        "\n",
        "def checker(number: int):\n",
        "  if number % 12 ==0:\n",
        "    print(\"Perfect\")\n",
        "  elif number % 4 == 0:\n",
        "    print(\"Okay\")\n",
        "  elif number % 3 == 0:\n",
        "    print(\"Yes\")\n",
        "  else:\n",
        "    return None"
      ]
    },
    {
      "cell_type": "code",
      "execution_count": 37,
      "id": "d54bf804-5776-45c1-ae47-14ce56c0bc61",
      "metadata": {
        "id": "d54bf804-5776-45c1-ae47-14ce56c0bc61"
      },
      "outputs": [],
      "source": [
        "# Write your solution here\n",
        "\n",
        "checker(number=13)"
      ]
    },
    {
      "cell_type": "code",
      "source": [
        "checker(number=30)"
      ],
      "metadata": {
        "colab": {
          "base_uri": "https://localhost:8080/"
        },
        "id": "hF_hmW25dtfa",
        "outputId": "2c62d230-da79-4389-9b01-3af0d4dde933"
      },
      "id": "hF_hmW25dtfa",
      "execution_count": 38,
      "outputs": [
        {
          "output_type": "stream",
          "name": "stdout",
          "text": [
            "Yes\n"
          ]
        }
      ]
    },
    {
      "cell_type": "markdown",
      "id": "91c78281-195b-4248-b2ca-86bb330a8b73",
      "metadata": {
        "id": "91c78281-195b-4248-b2ca-86bb330a8b73"
      },
      "source": [
        "## Qs 3: \n",
        "\n",
        "Create a class called `MeanOrMedian`. Implement two methods in your class `calculate_mean()` and `calculate_median()` that calculates the **`mean`** and the **`median`** respectively given a list. Instantiate the class `MeanOrMedian` and test the **2** `mean` and `median` methods."
      ]
    },
    {
      "cell_type": "code",
      "execution_count": 39,
      "id": "88a8958b-5ccc-405c-9822-2a2e593d49fd",
      "metadata": {
        "id": "88a8958b-5ccc-405c-9822-2a2e593d49fd"
      },
      "outputs": [],
      "source": [
        "# Write your solution here\n",
        "\n",
        "class MeanOrMedian:\n",
        "  def __init__(self, mean, median, sample_list):\n",
        "    self.mean = mean\n",
        "    self.median = median\n",
        "    self.sample_list = sample_list\n",
        "\n",
        "  def calculate_mean(sample_list):\n",
        "    sum = 0\n",
        "    for i in sample_list:\n",
        "      sum = sum + i\n",
        "    mean = sum/len(sample_list)\n",
        "    return mean\n",
        "  \n",
        "  def calculate_median(sample_list):\n",
        "    sample_list.sort()\n",
        "    length = len(sample_list)\n",
        "    if length%2==0:\n",
        "      median = (sample_list[int(length/2)-1] + sample_list[int(length/2)]) / 2\n",
        "    else:\n",
        "      median = sample_list[int(length/2)]\n",
        "    return median"
      ]
    },
    {
      "cell_type": "code",
      "execution_count": 40,
      "id": "0ac08968-7724-444d-bb09-c53b29e30096",
      "metadata": {
        "id": "0ac08968-7724-444d-bb09-c53b29e30096",
        "colab": {
          "base_uri": "https://localhost:8080/"
        },
        "outputId": "79f4c4c1-fb69-4ae8-e8ee-33a9c288fe90"
      },
      "outputs": [
        {
          "output_type": "execute_result",
          "data": {
            "text/plain": [
              "2.5"
            ]
          },
          "metadata": {},
          "execution_count": 40
        }
      ],
      "source": [
        "# Write your solution here\n",
        "\n",
        "list_ = [1, 2, 3, 4]\n",
        "\n",
        "MeanOrMedian.calculate_mean(list_)"
      ]
    },
    {
      "cell_type": "code",
      "execution_count": 41,
      "id": "c111ac13-e041-4424-a593-67b977983a5f",
      "metadata": {
        "id": "c111ac13-e041-4424-a593-67b977983a5f",
        "colab": {
          "base_uri": "https://localhost:8080/"
        },
        "outputId": "47861b85-c35d-406a-f89e-4da988f7f9d2"
      },
      "outputs": [
        {
          "output_type": "execute_result",
          "data": {
            "text/plain": [
              "2.5"
            ]
          },
          "metadata": {},
          "execution_count": 41
        }
      ],
      "source": [
        "list_ = [3, 2, 1, 4]\n",
        "\n",
        "MeanOrMedian.calculate_median(list_)"
      ]
    },
    {
      "cell_type": "code",
      "source": [
        "list_ = [3, 2, 1, 4, 7, 5, 6]\n",
        "\n",
        "MeanOrMedian.calculate_median(list_)"
      ],
      "metadata": {
        "colab": {
          "base_uri": "https://localhost:8080/"
        },
        "id": "TXKhrR28dVIE",
        "outputId": "1cb15e73-9758-49ed-d373-6be9747048ec"
      },
      "id": "TXKhrR28dVIE",
      "execution_count": 42,
      "outputs": [
        {
          "output_type": "execute_result",
          "data": {
            "text/plain": [
              "4"
            ]
          },
          "metadata": {},
          "execution_count": 42
        }
      ]
    },
    {
      "cell_type": "markdown",
      "id": "755910de-cce0-49eb-b8d0-54fc7e30460a",
      "metadata": {
        "id": "755910de-cce0-49eb-b8d0-54fc7e30460a"
      },
      "source": [
        "## Qs 4:\n",
        "\n",
        "Write a program to create the function called `solver()`, which can accept two variables and perform **multiplication** and **division**. It must also return both **multiplication** and **division** in the same return call. Call the function using **two** different examples."
      ]
    },
    {
      "cell_type": "code",
      "execution_count": null,
      "id": "17630778-8b55-4fd8-a2c1-198072e1e595",
      "metadata": {
        "id": "17630778-8b55-4fd8-a2c1-198072e1e595"
      },
      "outputs": [],
      "source": [
        "# Write your solution here\n",
        "\n",
        "def solver(a, b):\n",
        "  return a*b, a/b"
      ]
    },
    {
      "cell_type": "code",
      "execution_count": null,
      "id": "c2a37e8f-2043-4187-b213-c73e22f77218",
      "metadata": {
        "colab": {
          "base_uri": "https://localhost:8080/"
        },
        "id": "c2a37e8f-2043-4187-b213-c73e22f77218",
        "outputId": "31d61c6a-16f7-4582-853c-594c67c74f02"
      },
      "outputs": [
        {
          "output_type": "execute_result",
          "data": {
            "text/plain": [
              "(8, 2.0)"
            ]
          },
          "metadata": {},
          "execution_count": 6
        }
      ],
      "source": [
        "# Write your solution here\n",
        "\n",
        "solver(4, 2)"
      ]
    },
    {
      "cell_type": "code",
      "execution_count": null,
      "id": "a74b236c-af51-447a-8874-43cc0f2690ae",
      "metadata": {
        "colab": {
          "base_uri": "https://localhost:8080/"
        },
        "id": "a74b236c-af51-447a-8874-43cc0f2690ae",
        "outputId": "211771e5-d0f4-4c66-d589-3793cbfed18f"
      },
      "outputs": [
        {
          "output_type": "execute_result",
          "data": {
            "text/plain": [
              "(144, 1.7777777777777777)"
            ]
          },
          "metadata": {},
          "execution_count": 7
        }
      ],
      "source": [
        "solver(16, 9)"
      ]
    },
    {
      "cell_type": "markdown",
      "id": "11fd8120-de4e-41c6-a9a6-8301347ce936",
      "metadata": {
        "id": "11fd8120-de4e-41c6-a9a6-8301347ce936"
      },
      "source": [
        "## Qs 5:\n",
        "\n",
        "Given the dictionary below, extract the following:\n",
        "\n",
        "a.`name`\n",
        "\n",
        "b. `height,width`\n",
        "\n",
        "c. `size`\n",
        "\n",
        "\n",
        "\n",
        "```python\n",
        "\n",
        "my_dict = {\n",
        "   \"id\": \"001\",\n",
        "   \"name\": \"dog\",\n",
        "   \"image\":\n",
        "      {\n",
        "         \"url\": \"images/001.jpg\",\n",
        "\n",
        "            \"thumbnail\":\n",
        "               {\n",
        "                  \"url\": \"images/thumbnails/001.jpg\",\n",
        "                  \"height,width\": \"3x6\"\n",
        "               },\n",
        "          \"size\": \"30 kB\"\n",
        "      }\n",
        "}\n",
        "\n",
        "```"
      ]
    },
    {
      "cell_type": "code",
      "execution_count": null,
      "id": "b2ba6099-5668-4647-bc93-ad620bfb6be0",
      "metadata": {
        "id": "b2ba6099-5668-4647-bc93-ad620bfb6be0"
      },
      "outputs": [],
      "source": [
        "# Write your solution here\n",
        "\n",
        "my_dict = {\n",
        "   \"id\": \"001\",\n",
        "   \"name\": \"dog\",\n",
        "   \"image\":\n",
        "      {\n",
        "         \"url\": \"images/001.jpg\",\n",
        "\n",
        "            \"thumbnail\":\n",
        "               {\n",
        "                  \"url\": \"images/thumbnails/001.jpg\",\n",
        "                  \"height,width\": \"3x6\"\n",
        "               },\n",
        "          \"size\": \"30 kB\"\n",
        "      }\n",
        "}"
      ]
    },
    {
      "cell_type": "code",
      "execution_count": null,
      "id": "ee8d8a36-ead3-4ca0-b98f-96864c7c7ebf",
      "metadata": {
        "colab": {
          "base_uri": "https://localhost:8080/",
          "height": 35
        },
        "id": "ee8d8a36-ead3-4ca0-b98f-96864c7c7ebf",
        "outputId": "3c2f91e8-3d2d-46f2-df13-aeccfefba220"
      },
      "outputs": [
        {
          "output_type": "execute_result",
          "data": {
            "text/plain": [
              "'dog'"
            ],
            "application/vnd.google.colaboratory.intrinsic+json": {
              "type": "string"
            }
          },
          "metadata": {},
          "execution_count": 10
        }
      ],
      "source": [
        "# Write your solution here\n",
        "\n",
        "my_dict[\"name\"]"
      ]
    },
    {
      "cell_type": "code",
      "execution_count": null,
      "id": "1bfbcb4a-3390-46a9-87a4-3c60b2c5e8f2",
      "metadata": {
        "colab": {
          "base_uri": "https://localhost:8080/",
          "height": 35
        },
        "id": "1bfbcb4a-3390-46a9-87a4-3c60b2c5e8f2",
        "outputId": "f47c6227-da08-4c48-d4ee-3c22f8551256"
      },
      "outputs": [
        {
          "output_type": "execute_result",
          "data": {
            "text/plain": [
              "'3x6'"
            ],
            "application/vnd.google.colaboratory.intrinsic+json": {
              "type": "string"
            }
          },
          "metadata": {},
          "execution_count": 11
        }
      ],
      "source": [
        "# Write your solution here\n",
        "\n",
        "my_dict['image']['thumbnail']['height,width']"
      ]
    },
    {
      "cell_type": "code",
      "execution_count": null,
      "id": "53b7d128-d505-479e-ba13-545d173f80ac",
      "metadata": {
        "colab": {
          "base_uri": "https://localhost:8080/",
          "height": 35
        },
        "id": "53b7d128-d505-479e-ba13-545d173f80ac",
        "outputId": "228a411b-fd1c-4241-e697-ce5b49891015"
      },
      "outputs": [
        {
          "output_type": "execute_result",
          "data": {
            "text/plain": [
              "'30 kB'"
            ],
            "application/vnd.google.colaboratory.intrinsic+json": {
              "type": "string"
            }
          },
          "metadata": {},
          "execution_count": 12
        }
      ],
      "source": [
        "my_dict[\"image\"][\"size\"]"
      ]
    }
  ],
  "metadata": {
    "kernelspec": {
      "display_name": "Python(ds)",
      "language": "python",
      "name": "ds"
    },
    "language_info": {
      "codemirror_mode": {
        "name": "ipython",
        "version": 3
      },
      "file_extension": ".py",
      "mimetype": "text/x-python",
      "name": "python",
      "nbconvert_exporter": "python",
      "pygments_lexer": "ipython3",
      "version": "3.9.0"
    },
    "colab": {
      "provenance": []
    }
  },
  "nbformat": 4,
  "nbformat_minor": 5
}